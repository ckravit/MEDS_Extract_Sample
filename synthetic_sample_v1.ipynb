{
 "cells": [
  {
   "cell_type": "markdown",
   "id": "9b0e4fd0",
   "metadata": {},
   "source": [
    "## Two methods for converting some test synthetic data to MEDS format"
   ]
  },
  {
   "cell_type": "markdown",
   "id": "20f0c78c",
   "metadata": {},
   "source": [
    "Version 1 (likely preferred): This uses the _--overrides_ for specifying options the way the official example notebook does\n",
    "\n",
    "Version 2 (may still need fixing): This uses a _pipeline_config.yaml_ instead of overrides. Note, the _data_input_dir_ doesn't work as described in the repo.  \n",
    "&nbsp;&nbsp;&nbsp;&nbsp; As the time of this script creation (2025-07-19), the yaml seems to require listing _${input_dir}_/_${input_dir}_ instead of just _${input_dir}_.  \n",
    "&nbsp;&nbsp;&nbsp;&nbsp; That's not what the official docs indicate it should be."
   ]
  },
  {
   "cell_type": "markdown",
   "id": "edcebe5d",
   "metadata": {},
   "source": [
    "### Make sure you install the MEDS-extract package by running the following command:"
   ]
  },
  {
   "cell_type": "code",
   "execution_count": 1,
   "id": "82b2debe",
   "metadata": {},
   "outputs": [],
   "source": [
    "# Uncomment this line to install the MEDS-extract package if you haven't done so already\n",
    "# !pip install MEDS-extract"
   ]
  },
  {
   "cell_type": "markdown",
   "id": "97fd4c60",
   "metadata": {},
   "source": [
    "To start, setup some useful packages"
   ]
  },
  {
   "cell_type": "code",
   "execution_count": 2,
   "id": "a320a7e8",
   "metadata": {},
   "outputs": [],
   "source": [
    "from pathlib import Path\n",
    "from pretty_print_directory import PrintConfig, print_directory\n",
    "import polars as pl"
   ]
  },
  {
   "cell_type": "markdown",
   "id": "13a82c17",
   "metadata": {},
   "source": [
    "Assign some variables:"
   ]
  },
  {
   "cell_type": "code",
   "execution_count": 3,
   "id": "75e54362",
   "metadata": {},
   "outputs": [],
   "source": [
    "input_dir = \"./raw_data\"\n",
    "output_dir = \"./MEDS_output\"\n",
    "event_config_file = \"event_config.yaml\"\n",
    "dataset_name = \"Synthetic_Dataset\"\n",
    "dataset_version = \"1.0\""
   ]
  },
  {
   "cell_type": "markdown",
   "id": "97d209f0",
   "metadata": {},
   "source": [
    "Take a quick look at the input file list"
   ]
  },
  {
   "cell_type": "code",
   "execution_count": 4,
   "id": "e4b9ce9d",
   "metadata": {},
   "outputs": [
    {
     "name": "stdout",
     "output_type": "stream",
     "text": [
      "└── synthetic_data.csv\n"
     ]
    }
   ],
   "source": [
    "DATA_ROOT = Path(input_dir)\n",
    "print_directory(DATA_ROOT)"
   ]
  },
  {
   "cell_type": "markdown",
   "id": "c78ff73b",
   "metadata": {},
   "source": [
    "## Version 1"
   ]
  },
  {
   "cell_type": "markdown",
   "id": "c2b5c1f8",
   "metadata": {},
   "source": [
    "This version runs the command as indicated in the official example notebook"
   ]
  },
  {
   "cell_type": "code",
   "execution_count": 5,
   "id": "6e97e2b2",
   "metadata": {},
   "outputs": [],
   "source": [
    "# Run the MEDS_Extract command with the specified configurations\n",
    "!MEDS_transform-pipeline \\\n",
    "    pkg://MEDS_extract.configs._extract.yaml \\\n",
    "    --overrides \\\n",
    "    input_dir={input_dir} \\\n",
    "    output_dir={output_dir} \\\n",
    "    event_conversion_config_fp={event_config_file} \\\n",
    "    dataset.name={dataset_name} \\\n",
    "    dataset.version={dataset_version} "
   ]
  },
  {
   "cell_type": "markdown",
   "id": "92d41a79",
   "metadata": {},
   "source": [
    "## Version 2"
   ]
  },
  {
   "cell_type": "markdown",
   "id": "6e76eb83",
   "metadata": {},
   "source": [
    "This version runs the command with a _pipeline.yaml_ file that is configured with the appropriate settings.  \n",
    "&nbsp;&nbsp;&nbsp;&nbsp; Remember: As the time of this script creation (2025-07-19), yaml seems to require listing _${input_dir}_/_${input_dir}_ instead of just _${input_dir}_/.  \n",
    "&nbsp;&nbsp;&nbsp;&nbsp; That's not what the official docs indicate it should be."
   ]
  },
  {
   "cell_type": "code",
   "execution_count": 6,
   "id": "b8e753ff",
   "metadata": {},
   "outputs": [],
   "source": [
    "!MEDS_transform-pipeline pipeline_config.yaml"
   ]
  },
  {
   "cell_type": "markdown",
   "id": "2c6e75e2",
   "metadata": {},
   "source": [
    "# Viewing into the Ouputs"
   ]
  },
  {
   "cell_type": "markdown",
   "id": "b8e5f0fe",
   "metadata": {},
   "source": [
    "The final data, omitting logs, to keep the output small:"
   ]
  },
  {
   "cell_type": "code",
   "execution_count": 7,
   "id": "ef0b1392",
   "metadata": {},
   "outputs": [
    {
     "name": "stdout",
     "output_type": "stream",
     "text": [
      "├── held_out\n",
      "│   └── 0.parquet\n",
      "├── train\n",
      "│   └── 0.parquet\n",
      "└── tuning\n",
      "    └── 0.parquet\n"
     ]
    }
   ],
   "source": [
    "output_data_root = Path(\"MEDS_output/data\")\n",
    "print_directory(output_data_root, PrintConfig(ignore_regex=r\"\\.logs\"))"
   ]
  },
  {
   "cell_type": "markdown",
   "id": "1816b88a",
   "metadata": {},
   "source": [
    "The final metadata, omitting logs, to keep the output small:"
   ]
  },
  {
   "cell_type": "code",
   "execution_count": 8,
   "id": "63cfab80",
   "metadata": {},
   "outputs": [
    {
     "name": "stdout",
     "output_type": "stream",
     "text": [
      "├── .shards.json\n",
      "├── codes.parquet\n",
      "├── dataset.json\n",
      "└── subject_splits.parquet\n"
     ]
    }
   ],
   "source": [
    "output_metadata_root = Path(\"MEDS_output/metadata\")\n",
    "print_directory(output_metadata_root, PrintConfig(ignore_regex=r\"\\.logs\"))"
   ]
  },
  {
   "cell_type": "markdown",
   "id": "8c76801c",
   "metadata": {},
   "source": [
    "Peak into some of the files"
   ]
  },
  {
   "cell_type": "code",
   "execution_count": 9,
   "id": "26bd333b",
   "metadata": {},
   "outputs": [
    {
     "name": "stdout",
     "output_type": "stream",
     "text": [
      "held_out/0.parquet\n"
     ]
    },
    {
     "data": {
      "text/html": [
       "<div><style>\n",
       ".dataframe > thead > tr,\n",
       ".dataframe > tbody > tr {\n",
       "  text-align: right;\n",
       "  white-space: pre-wrap;\n",
       "}\n",
       "</style>\n",
       "<small>shape: (6, 4)</small><table border=\"1\" class=\"dataframe\"><thead><tr><th>subject_id</th><th>time</th><th>code</th><th>numeric_value</th></tr><tr><td>i64</td><td>datetime[μs]</td><td>str</td><td>f32</td></tr></thead><tbody><tr><td>119031</td><td>2024-08-05 17:40:58.690041</td><td>&quot;MED002&quot;</td><td>119.300003</td></tr><tr><td>119031</td><td>2024-08-08 10:04:42.859157</td><td>&quot;DX001&quot;</td><td>120.489998</td></tr><tr><td>119031</td><td>2024-09-20 17:08:54.150772</td><td>&quot;DX005&quot;</td><td>128.979996</td></tr><tr><td>119031</td><td>2024-09-21 01:44:48.734192</td><td>&quot;LAB002&quot;</td><td>77.18</td></tr><tr><td>119031</td><td>2024-11-04 10:34:47.889702</td><td>&quot;DX005&quot;</td><td>98.730003</td></tr><tr><td>119031</td><td>2025-01-19 19:43:59.433472</td><td>&quot;DX005&quot;</td><td>116.099998</td></tr></tbody></table></div>"
      ],
      "text/plain": [
       "shape: (6, 4)\n",
       "┌────────────┬────────────────────────────┬────────┬───────────────┐\n",
       "│ subject_id ┆ time                       ┆ code   ┆ numeric_value │\n",
       "│ ---        ┆ ---                        ┆ ---    ┆ ---           │\n",
       "│ i64        ┆ datetime[μs]               ┆ str    ┆ f32           │\n",
       "╞════════════╪════════════════════════════╪════════╪═══════════════╡\n",
       "│ 119031     ┆ 2024-08-05 17:40:58.690041 ┆ MED002 ┆ 119.300003    │\n",
       "│ 119031     ┆ 2024-08-08 10:04:42.859157 ┆ DX001  ┆ 120.489998    │\n",
       "│ 119031     ┆ 2024-09-20 17:08:54.150772 ┆ DX005  ┆ 128.979996    │\n",
       "│ 119031     ┆ 2024-09-21 01:44:48.734192 ┆ LAB002 ┆ 77.18         │\n",
       "│ 119031     ┆ 2024-11-04 10:34:47.889702 ┆ DX005  ┆ 98.730003     │\n",
       "│ 119031     ┆ 2025-01-19 19:43:59.433472 ┆ DX005  ┆ 116.099998    │\n",
       "└────────────┴────────────────────────────┴────────┴───────────────┘"
      ]
     },
     "metadata": {},
     "output_type": "display_data"
    },
    {
     "name": "stdout",
     "output_type": "stream",
     "text": [
      "train/0.parquet\n"
     ]
    },
    {
     "data": {
      "text/html": [
       "<div><style>\n",
       ".dataframe > thead > tr,\n",
       ".dataframe > tbody > tr {\n",
       "  text-align: right;\n",
       "  white-space: pre-wrap;\n",
       "}\n",
       "</style>\n",
       "<small>shape: (6, 4)</small><table border=\"1\" class=\"dataframe\"><thead><tr><th>subject_id</th><th>time</th><th>code</th><th>numeric_value</th></tr><tr><td>i64</td><td>datetime[μs]</td><td>str</td><td>f32</td></tr></thead><tbody><tr><td>64447</td><td>2024-08-12 04:36:25.035832</td><td>&quot;LAB002&quot;</td><td>115.660004</td></tr><tr><td>64447</td><td>2024-08-29 21:41:03.141390</td><td>&quot;MED001&quot;</td><td>92.309998</td></tr><tr><td>64447</td><td>2024-09-04 03:50:49.234321</td><td>&quot;DX005&quot;</td><td>112.199997</td></tr><tr><td>64447</td><td>2024-09-05 13:25:58.000016</td><td>&quot;DX002&quot;</td><td>99.480003</td></tr><tr><td>64447</td><td>2024-09-06 09:51:29.417816</td><td>&quot;MED001&quot;</td><td>101.830002</td></tr><tr><td>64447</td><td>2024-09-06 11:41:57.383762</td><td>&quot;DX005&quot;</td><td>100.459999</td></tr></tbody></table></div>"
      ],
      "text/plain": [
       "shape: (6, 4)\n",
       "┌────────────┬────────────────────────────┬────────┬───────────────┐\n",
       "│ subject_id ┆ time                       ┆ code   ┆ numeric_value │\n",
       "│ ---        ┆ ---                        ┆ ---    ┆ ---           │\n",
       "│ i64        ┆ datetime[μs]               ┆ str    ┆ f32           │\n",
       "╞════════════╪════════════════════════════╪════════╪═══════════════╡\n",
       "│ 64447      ┆ 2024-08-12 04:36:25.035832 ┆ LAB002 ┆ 115.660004    │\n",
       "│ 64447      ┆ 2024-08-29 21:41:03.141390 ┆ MED001 ┆ 92.309998     │\n",
       "│ 64447      ┆ 2024-09-04 03:50:49.234321 ┆ DX005  ┆ 112.199997    │\n",
       "│ 64447      ┆ 2024-09-05 13:25:58.000016 ┆ DX002  ┆ 99.480003     │\n",
       "│ 64447      ┆ 2024-09-06 09:51:29.417816 ┆ MED001 ┆ 101.830002    │\n",
       "│ 64447      ┆ 2024-09-06 11:41:57.383762 ┆ DX005  ┆ 100.459999    │\n",
       "└────────────┴────────────────────────────┴────────┴───────────────┘"
      ]
     },
     "metadata": {},
     "output_type": "display_data"
    },
    {
     "name": "stdout",
     "output_type": "stream",
     "text": [
      "tuning/0.parquet\n"
     ]
    },
    {
     "data": {
      "text/html": [
       "<div><style>\n",
       ".dataframe > thead > tr,\n",
       ".dataframe > tbody > tr {\n",
       "  text-align: right;\n",
       "  white-space: pre-wrap;\n",
       "}\n",
       "</style>\n",
       "<small>shape: (6, 4)</small><table border=\"1\" class=\"dataframe\"><thead><tr><th>subject_id</th><th>time</th><th>code</th><th>numeric_value</th></tr><tr><td>i64</td><td>datetime[μs]</td><td>str</td><td>f32</td></tr></thead><tbody><tr><td>19594</td><td>2024-07-15 01:40:31.157512</td><td>&quot;DX004&quot;</td><td>115.32</td></tr><tr><td>19594</td><td>2024-08-13 10:21:46.713997</td><td>&quot;DX005&quot;</td><td>106.489998</td></tr><tr><td>19594</td><td>2024-09-23 07:17:26.193540</td><td>&quot;MED002&quot;</td><td>71.800003</td></tr><tr><td>19594</td><td>2024-10-19 01:13:42.248642</td><td>&quot;MED003&quot;</td><td>101.290001</td></tr><tr><td>19594</td><td>2024-10-21 01:14:40.410467</td><td>&quot;MED002&quot;</td><td>91.529999</td></tr><tr><td>19594</td><td>2024-11-12 06:14:08.095228</td><td>&quot;DX004&quot;</td><td>81.120003</td></tr></tbody></table></div>"
      ],
      "text/plain": [
       "shape: (6, 4)\n",
       "┌────────────┬────────────────────────────┬────────┬───────────────┐\n",
       "│ subject_id ┆ time                       ┆ code   ┆ numeric_value │\n",
       "│ ---        ┆ ---                        ┆ ---    ┆ ---           │\n",
       "│ i64        ┆ datetime[μs]               ┆ str    ┆ f32           │\n",
       "╞════════════╪════════════════════════════╪════════╪═══════════════╡\n",
       "│ 19594      ┆ 2024-07-15 01:40:31.157512 ┆ DX004  ┆ 115.32        │\n",
       "│ 19594      ┆ 2024-08-13 10:21:46.713997 ┆ DX005  ┆ 106.489998    │\n",
       "│ 19594      ┆ 2024-09-23 07:17:26.193540 ┆ MED002 ┆ 71.800003     │\n",
       "│ 19594      ┆ 2024-10-19 01:13:42.248642 ┆ MED003 ┆ 101.290001    │\n",
       "│ 19594      ┆ 2024-10-21 01:14:40.410467 ┆ MED002 ┆ 91.529999     │\n",
       "│ 19594      ┆ 2024-11-12 06:14:08.095228 ┆ DX004  ┆ 81.120003     │\n",
       "└────────────┴────────────────────────────┴────────┴───────────────┘"
      ]
     },
     "metadata": {},
     "output_type": "display_data"
    }
   ],
   "source": [
    "for fp in output_data_root.rglob(\"*.parquet\"):\n",
    "    print(fp.relative_to(output_data_root))\n",
    "    display(pl.read_parquet(fp).head(6))"
   ]
  },
  {
   "cell_type": "code",
   "execution_count": 10,
   "id": "ae8d3f3f",
   "metadata": {},
   "outputs": [
    {
     "name": "stdout",
     "output_type": "stream",
     "text": [
      "{\"dataset_name\": \"Synthetic_Dataset\", \"dataset_version\": \"1.0\", \"etl_name\": \"MEDS_transforms\", \"etl_version\": \"0.6.0\", \"meds_version\": \"0.4.0\", \"created_at\": \"2025-07-20T04:52:46.592332+00:00\"}\n"
     ]
    }
   ],
   "source": [
    "print((output_metadata_root / \"dataset.json\").read_text())"
   ]
  },
  {
   "cell_type": "markdown",
   "id": "1ee13daf",
   "metadata": {},
   "source": [
    "We can see that by default, the codes file has the right schema but is empty, as we extracted no metadata in this pipeline."
   ]
  },
  {
   "cell_type": "code",
   "execution_count": 11,
   "id": "7fe795f6",
   "metadata": {},
   "outputs": [
    {
     "data": {
      "text/html": [
       "<div><style>\n",
       ".dataframe > thead > tr,\n",
       ".dataframe > tbody > tr {\n",
       "  text-align: right;\n",
       "  white-space: pre-wrap;\n",
       "}\n",
       "</style>\n",
       "<small>shape: (0, 3)</small><table border=\"1\" class=\"dataframe\"><thead><tr><th>code</th><th>description</th><th>parent_codes</th></tr><tr><td>str</td><td>str</td><td>list[str]</td></tr></thead><tbody></tbody></table></div>"
      ],
      "text/plain": [
       "shape: (0, 3)\n",
       "┌──────┬─────────────┬──────────────┐\n",
       "│ code ┆ description ┆ parent_codes │\n",
       "│ ---  ┆ ---         ┆ ---          │\n",
       "│ str  ┆ str         ┆ list[str]    │\n",
       "╞══════╪═════════════╪══════════════╡\n",
       "└──────┴─────────────┴──────────────┘"
      ]
     },
     "metadata": {},
     "output_type": "display_data"
    }
   ],
   "source": [
    "display(pl.read_parquet(output_metadata_root / \"codes.parquet\"))"
   ]
  },
  {
   "cell_type": "markdown",
   "id": "39b45842",
   "metadata": {},
   "source": [
    "Show some split listings"
   ]
  },
  {
   "cell_type": "code",
   "execution_count": 12,
   "id": "f7d2482c",
   "metadata": {},
   "outputs": [
    {
     "data": {
      "text/html": [
       "<div><style>\n",
       ".dataframe > thead > tr,\n",
       ".dataframe > tbody > tr {\n",
       "  text-align: right;\n",
       "  white-space: pre-wrap;\n",
       "}\n",
       "</style>\n",
       "<small>shape: (153, 2)</small><table border=\"1\" class=\"dataframe\"><thead><tr><th>subject_id</th><th>split</th></tr><tr><td>i64</td><td>str</td></tr></thead><tbody><tr><td>7304150</td><td>&quot;train&quot;</td></tr><tr><td>8887065</td><td>&quot;train&quot;</td></tr><tr><td>4934115</td><td>&quot;train&quot;</td></tr><tr><td>1632631</td><td>&quot;train&quot;</td></tr><tr><td>948483</td><td>&quot;train&quot;</td></tr><tr><td>&hellip;</td><td>&hellip;</td></tr><tr><td>4501946</td><td>&quot;held_out&quot;</td></tr><tr><td>3345942</td><td>&quot;held_out&quot;</td></tr><tr><td>2351057</td><td>&quot;held_out&quot;</td></tr><tr><td>4228028</td><td>&quot;held_out&quot;</td></tr><tr><td>4447923</td><td>&quot;held_out&quot;</td></tr></tbody></table></div>"
      ],
      "text/plain": [
       "shape: (153, 2)\n",
       "┌────────────┬──────────┐\n",
       "│ subject_id ┆ split    │\n",
       "│ ---        ┆ ---      │\n",
       "│ i64        ┆ str      │\n",
       "╞════════════╪══════════╡\n",
       "│ 7304150    ┆ train    │\n",
       "│ 8887065    ┆ train    │\n",
       "│ 4934115    ┆ train    │\n",
       "│ 1632631    ┆ train    │\n",
       "│ 948483     ┆ train    │\n",
       "│ …          ┆ …        │\n",
       "│ 4501946    ┆ held_out │\n",
       "│ 3345942    ┆ held_out │\n",
       "│ 2351057    ┆ held_out │\n",
       "│ 4228028    ┆ held_out │\n",
       "│ 4447923    ┆ held_out │\n",
       "└────────────┴──────────┘"
      ]
     },
     "metadata": {},
     "output_type": "display_data"
    }
   ],
   "source": [
    "display(pl.read_parquet(output_metadata_root / \"subject_splits.parquet\"))"
   ]
  },
  {
   "cell_type": "code",
   "execution_count": 13,
   "id": "27616d60",
   "metadata": {},
   "outputs": [
    {
     "name": "stdout",
     "output_type": "stream",
     "text": [
      "Split: train\n"
     ]
    },
    {
     "data": {
      "text/html": [
       "<div><style>\n",
       ".dataframe > thead > tr,\n",
       ".dataframe > tbody > tr {\n",
       "  text-align: right;\n",
       "  white-space: pre-wrap;\n",
       "}\n",
       "</style>\n",
       "<small>shape: (3, 2)</small><table border=\"1\" class=\"dataframe\"><thead><tr><th>subject_id</th><th>split</th></tr><tr><td>i64</td><td>str</td></tr></thead><tbody><tr><td>7304150</td><td>&quot;train&quot;</td></tr><tr><td>8887065</td><td>&quot;train&quot;</td></tr><tr><td>4934115</td><td>&quot;train&quot;</td></tr></tbody></table></div>"
      ],
      "text/plain": [
       "shape: (3, 2)\n",
       "┌────────────┬───────┐\n",
       "│ subject_id ┆ split │\n",
       "│ ---        ┆ ---   │\n",
       "│ i64        ┆ str   │\n",
       "╞════════════╪═══════╡\n",
       "│ 7304150    ┆ train │\n",
       "│ 8887065    ┆ train │\n",
       "│ 4934115    ┆ train │\n",
       "└────────────┴───────┘"
      ]
     },
     "metadata": {},
     "output_type": "display_data"
    },
    {
     "name": "stdout",
     "output_type": "stream",
     "text": [
      "\n",
      "\n",
      "Split: tuning\n"
     ]
    },
    {
     "data": {
      "text/html": [
       "<div><style>\n",
       ".dataframe > thead > tr,\n",
       ".dataframe > tbody > tr {\n",
       "  text-align: right;\n",
       "  white-space: pre-wrap;\n",
       "}\n",
       "</style>\n",
       "<small>shape: (3, 2)</small><table border=\"1\" class=\"dataframe\"><thead><tr><th>subject_id</th><th>split</th></tr><tr><td>i64</td><td>str</td></tr></thead><tbody><tr><td>7197926</td><td>&quot;tuning&quot;</td></tr><tr><td>19594</td><td>&quot;tuning&quot;</td></tr><tr><td>5289418</td><td>&quot;tuning&quot;</td></tr></tbody></table></div>"
      ],
      "text/plain": [
       "shape: (3, 2)\n",
       "┌────────────┬────────┐\n",
       "│ subject_id ┆ split  │\n",
       "│ ---        ┆ ---    │\n",
       "│ i64        ┆ str    │\n",
       "╞════════════╪════════╡\n",
       "│ 7197926    ┆ tuning │\n",
       "│ 19594      ┆ tuning │\n",
       "│ 5289418    ┆ tuning │\n",
       "└────────────┴────────┘"
      ]
     },
     "metadata": {},
     "output_type": "display_data"
    },
    {
     "name": "stdout",
     "output_type": "stream",
     "text": [
      "\n",
      "\n",
      "Split: held_out\n"
     ]
    },
    {
     "data": {
      "text/html": [
       "<div><style>\n",
       ".dataframe > thead > tr,\n",
       ".dataframe > tbody > tr {\n",
       "  text-align: right;\n",
       "  white-space: pre-wrap;\n",
       "}\n",
       "</style>\n",
       "<small>shape: (3, 2)</small><table border=\"1\" class=\"dataframe\"><thead><tr><th>subject_id</th><th>split</th></tr><tr><td>i64</td><td>str</td></tr></thead><tbody><tr><td>9817725</td><td>&quot;held_out&quot;</td></tr><tr><td>9896237</td><td>&quot;held_out&quot;</td></tr><tr><td>738977</td><td>&quot;held_out&quot;</td></tr></tbody></table></div>"
      ],
      "text/plain": [
       "shape: (3, 2)\n",
       "┌────────────┬──────────┐\n",
       "│ subject_id ┆ split    │\n",
       "│ ---        ┆ ---      │\n",
       "│ i64        ┆ str      │\n",
       "╞════════════╪══════════╡\n",
       "│ 9817725    ┆ held_out │\n",
       "│ 9896237    ┆ held_out │\n",
       "│ 738977     ┆ held_out │\n",
       "└────────────┴──────────┘"
      ]
     },
     "metadata": {},
     "output_type": "display_data"
    },
    {
     "name": "stdout",
     "output_type": "stream",
     "text": [
      "\n",
      "\n"
     ]
    }
   ],
   "source": [
    "# for each \"split\" display the 3 subject_ids in each type.\n",
    "subject_splits = pl.read_parquet(output_metadata_root / \"subject_splits.parquet\")\n",
    "for split_type in subject_splits['split'].unique():\n",
    "    print(f\"Split: {split_type}\")\n",
    "    split_data = subject_splits.filter(pl.col('split') == split_type)\n",
    "    display(split_data.head(3))\n",
    "    print(\"\\n\")\n"
   ]
  },
  {
   "cell_type": "code",
   "execution_count": null,
   "id": "b1589629",
   "metadata": {},
   "outputs": [],
   "source": []
  }
 ],
 "metadata": {
  "kernelspec": {
   "display_name": ".conda",
   "language": "python",
   "name": "python3"
  },
  "language_info": {
   "codemirror_mode": {
    "name": "ipython",
    "version": 3
   },
   "file_extension": ".py",
   "mimetype": "text/x-python",
   "name": "python",
   "nbconvert_exporter": "python",
   "pygments_lexer": "ipython3",
   "version": "3.11.13"
  }
 },
 "nbformat": 4,
 "nbformat_minor": 5
}
